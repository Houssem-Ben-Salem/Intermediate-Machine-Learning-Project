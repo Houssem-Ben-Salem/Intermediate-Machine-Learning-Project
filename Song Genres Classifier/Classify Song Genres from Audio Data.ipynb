{
 "cells": [
  {
   "cell_type": "code",
   "execution_count": null,
   "id": "149717e8",
   "metadata": {},
   "outputs": [],
   "source": [
    "import pandas as pd\n",
    "\n",
    "# Read in track metadata with genre labels\n",
    "tracks = pd.read_csv('https://raw.githubusercontent.com/hskhawaja/Datacamp-Projects/master/Classify%20Song%20Genres%20from%20Audio%20Data/datasets/fma-rock-vs-hiphop.csv')\n",
    "\n",
    "# Read in track metrics with the features\n",
    "echonest_metrics = pd.read_json('https://raw.githubusercontent.com/hskhawaja/Datacamp-Projects/master/Classify%20Song%20Genres%20from%20Audio%20Data/datasets/echonest-metrics.json',precise_float=True)\n",
    "\n",
    "# Merge the relevant columns of tracks and echonest_metrics\n",
    "echo_tracks = echonest_metrics.merge(tracks[['genre_top', 'track_id']], on='track_id')\n",
    "# Inspect the resultant dataframe\n",
    "echo_tracks.info()"
   ]
  },
  {
   "cell_type": "markdown",
   "id": "a829427b",
   "metadata": {},
   "source": [
    "# Pairwise relationships between continuous variables\n",
    "We typically want to avoid using variables that have strong correlations with each other -- hence avoiding feature redundancy"
   ]
  },
  {
   "cell_type": "code",
   "execution_count": 7,
   "id": "c30f4a89",
   "metadata": {},
   "outputs": [
    {
     "data": {
      "text/html": [
       "<style type=\"text/css\">\n",
       "#T_751f0_row0_col0, #T_751f0_row1_col1, #T_751f0_row2_col2, #T_751f0_row3_col3, #T_751f0_row4_col4, #T_751f0_row5_col5, #T_751f0_row6_col6, #T_751f0_row7_col7, #T_751f0_row8_col8 {\n",
       "  background-color: #023858;\n",
       "  color: #f1f1f1;\n",
       "}\n",
       "#T_751f0_row0_col1, #T_751f0_row1_col0, #T_751f0_row1_col3, #T_751f0_row2_col5, #T_751f0_row2_col7, #T_751f0_row4_col2, #T_751f0_row4_col6, #T_751f0_row4_col8, #T_751f0_row6_col4 {\n",
       "  background-color: #fff7fb;\n",
       "  color: #000000;\n",
       "}\n",
       "#T_751f0_row0_col2 {\n",
       "  background-color: #d2d2e7;\n",
       "  color: #000000;\n",
       "}\n",
       "#T_751f0_row0_col3 {\n",
       "  background-color: #b5c4df;\n",
       "  color: #000000;\n",
       "}\n",
       "#T_751f0_row0_col4 {\n",
       "  background-color: #f5eef6;\n",
       "  color: #000000;\n",
       "}\n",
       "#T_751f0_row0_col5 {\n",
       "  background-color: #e9e5f1;\n",
       "  color: #000000;\n",
       "}\n",
       "#T_751f0_row0_col6, #T_751f0_row8_col3 {\n",
       "  background-color: #d1d2e6;\n",
       "  color: #000000;\n",
       "}\n",
       "#T_751f0_row0_col7, #T_751f0_row1_col7 {\n",
       "  background-color: #e1dfed;\n",
       "  color: #000000;\n",
       "}\n",
       "#T_751f0_row0_col8, #T_751f0_row3_col6 {\n",
       "  background-color: #dedcec;\n",
       "  color: #000000;\n",
       "}\n",
       "#T_751f0_row1_col2 {\n",
       "  background-color: #e0dded;\n",
       "  color: #000000;\n",
       "}\n",
       "#T_751f0_row1_col4, #T_751f0_row4_col1 {\n",
       "  background-color: #97b7d7;\n",
       "  color: #000000;\n",
       "}\n",
       "#T_751f0_row1_col5, #T_751f0_row2_col4 {\n",
       "  background-color: #f3edf5;\n",
       "  color: #000000;\n",
       "}\n",
       "#T_751f0_row1_col6, #T_751f0_row6_col1 {\n",
       "  background-color: #b8c6e0;\n",
       "  color: #000000;\n",
       "}\n",
       "#T_751f0_row1_col8 {\n",
       "  background-color: #e2dfee;\n",
       "  color: #000000;\n",
       "}\n",
       "#T_751f0_row2_col0, #T_751f0_row5_col0, #T_751f0_row5_col3 {\n",
       "  background-color: #bdc8e1;\n",
       "  color: #000000;\n",
       "}\n",
       "#T_751f0_row2_col1, #T_751f0_row6_col0, #T_751f0_row7_col0, #T_751f0_row7_col1 {\n",
       "  background-color: #d0d1e6;\n",
       "  color: #000000;\n",
       "}\n",
       "#T_751f0_row2_col3 {\n",
       "  background-color: #fbf3f9;\n",
       "  color: #000000;\n",
       "}\n",
       "#T_751f0_row2_col6 {\n",
       "  background-color: #80aed2;\n",
       "  color: #f1f1f1;\n",
       "}\n",
       "#T_751f0_row2_col8 {\n",
       "  background-color: #529bc7;\n",
       "  color: #f1f1f1;\n",
       "}\n",
       "#T_751f0_row3_col0, #T_751f0_row7_col3 {\n",
       "  background-color: #a7bddb;\n",
       "  color: #000000;\n",
       "}\n",
       "#T_751f0_row3_col1 {\n",
       "  background-color: #f5eff6;\n",
       "  color: #000000;\n",
       "}\n",
       "#T_751f0_row3_col2, #T_751f0_row7_col2 {\n",
       "  background-color: #fef6fa;\n",
       "  color: #000000;\n",
       "}\n",
       "#T_751f0_row3_col4 {\n",
       "  background-color: #c4cbe3;\n",
       "  color: #000000;\n",
       "}\n",
       "#T_751f0_row3_col5, #T_751f0_row5_col7 {\n",
       "  background-color: #dcdaeb;\n",
       "  color: #000000;\n",
       "}\n",
       "#T_751f0_row3_col7 {\n",
       "  background-color: #adc1dd;\n",
       "  color: #000000;\n",
       "}\n",
       "#T_751f0_row3_col8, #T_751f0_row4_col7 {\n",
       "  background-color: #d9d8ea;\n",
       "  color: #000000;\n",
       "}\n",
       "#T_751f0_row4_col0 {\n",
       "  background-color: #f4eef6;\n",
       "  color: #000000;\n",
       "}\n",
       "#T_751f0_row4_col3 {\n",
       "  background-color: #d2d3e7;\n",
       "  color: #000000;\n",
       "}\n",
       "#T_751f0_row4_col5 {\n",
       "  background-color: #fdf5fa;\n",
       "  color: #000000;\n",
       "}\n",
       "#T_751f0_row5_col1 {\n",
       "  background-color: #ced0e6;\n",
       "  color: #000000;\n",
       "}\n",
       "#T_751f0_row5_col2 {\n",
       "  background-color: #ede8f3;\n",
       "  color: #000000;\n",
       "}\n",
       "#T_751f0_row5_col4, #T_751f0_row6_col7 {\n",
       "  background-color: #dbdaeb;\n",
       "  color: #000000;\n",
       "}\n",
       "#T_751f0_row5_col6 {\n",
       "  background-color: #c0c9e2;\n",
       "  color: #000000;\n",
       "}\n",
       "#T_751f0_row5_col8 {\n",
       "  background-color: #e8e4f0;\n",
       "  color: #000000;\n",
       "}\n",
       "#T_751f0_row6_col2 {\n",
       "  background-color: #93b5d6;\n",
       "  color: #000000;\n",
       "}\n",
       "#T_751f0_row6_col3, #T_751f0_row6_col5 {\n",
       "  background-color: #eae6f1;\n",
       "  color: #000000;\n",
       "}\n",
       "#T_751f0_row6_col8 {\n",
       "  background-color: #bfc9e1;\n",
       "  color: #000000;\n",
       "}\n",
       "#T_751f0_row7_col4 {\n",
       "  background-color: #c5cce3;\n",
       "  color: #000000;\n",
       "}\n",
       "#T_751f0_row7_col5 {\n",
       "  background-color: #f0eaf4;\n",
       "  color: #000000;\n",
       "}\n",
       "#T_751f0_row7_col6 {\n",
       "  background-color: #c8cde4;\n",
       "  color: #000000;\n",
       "}\n",
       "#T_751f0_row7_col8 {\n",
       "  background-color: #d6d6e9;\n",
       "  color: #000000;\n",
       "}\n",
       "#T_751f0_row8_col0 {\n",
       "  background-color: #c6cce3;\n",
       "  color: #000000;\n",
       "}\n",
       "#T_751f0_row8_col1 {\n",
       "  background-color: #cdd0e5;\n",
       "  color: #000000;\n",
       "}\n",
       "#T_751f0_row8_col2 {\n",
       "  background-color: #4c99c5;\n",
       "  color: #f1f1f1;\n",
       "}\n",
       "#T_751f0_row8_col4 {\n",
       "  background-color: #efe9f3;\n",
       "  color: #000000;\n",
       "}\n",
       "#T_751f0_row8_col5 {\n",
       "  background-color: #f7f0f7;\n",
       "  color: #000000;\n",
       "}\n",
       "#T_751f0_row8_col6 {\n",
       "  background-color: #a5bddb;\n",
       "  color: #000000;\n",
       "}\n",
       "#T_751f0_row8_col7 {\n",
       "  background-color: #d3d4e7;\n",
       "  color: #000000;\n",
       "}\n",
       "</style>\n",
       "<table id=\"T_751f0_\">\n",
       "  <thead>\n",
       "    <tr>\n",
       "      <th class=\"blank level0\" >&nbsp;</th>\n",
       "      <th class=\"col_heading level0 col0\" >track_id</th>\n",
       "      <th class=\"col_heading level0 col1\" >acousticness</th>\n",
       "      <th class=\"col_heading level0 col2\" >danceability</th>\n",
       "      <th class=\"col_heading level0 col3\" >energy</th>\n",
       "      <th class=\"col_heading level0 col4\" >instrumentalness</th>\n",
       "      <th class=\"col_heading level0 col5\" >liveness</th>\n",
       "      <th class=\"col_heading level0 col6\" >speechiness</th>\n",
       "      <th class=\"col_heading level0 col7\" >tempo</th>\n",
       "      <th class=\"col_heading level0 col8\" >valence</th>\n",
       "    </tr>\n",
       "  </thead>\n",
       "  <tbody>\n",
       "    <tr>\n",
       "      <th id=\"T_751f0_level0_row0\" class=\"row_heading level0 row0\" >track_id</th>\n",
       "      <td id=\"T_751f0_row0_col0\" class=\"data row0 col0\" >1.000000</td>\n",
       "      <td id=\"T_751f0_row0_col1\" class=\"data row0 col1\" >-0.372282</td>\n",
       "      <td id=\"T_751f0_row0_col2\" class=\"data row0 col2\" >0.049454</td>\n",
       "      <td id=\"T_751f0_row0_col3\" class=\"data row0 col3\" >0.140703</td>\n",
       "      <td id=\"T_751f0_row0_col4\" class=\"data row0 col4\" >-0.275623</td>\n",
       "      <td id=\"T_751f0_row0_col5\" class=\"data row0 col5\" >0.048231</td>\n",
       "      <td id=\"T_751f0_row0_col6\" class=\"data row0 col6\" >-0.026995</td>\n",
       "      <td id=\"T_751f0_row0_col7\" class=\"data row0 col7\" >-0.025392</td>\n",
       "      <td id=\"T_751f0_row0_col8\" class=\"data row0 col8\" >0.010070</td>\n",
       "    </tr>\n",
       "    <tr>\n",
       "      <th id=\"T_751f0_level0_row1\" class=\"row_heading level0 row1\" >acousticness</th>\n",
       "      <td id=\"T_751f0_row1_col0\" class=\"data row1 col0\" >-0.372282</td>\n",
       "      <td id=\"T_751f0_row1_col1\" class=\"data row1 col1\" >1.000000</td>\n",
       "      <td id=\"T_751f0_row1_col2\" class=\"data row1 col2\" >-0.028954</td>\n",
       "      <td id=\"T_751f0_row1_col3\" class=\"data row1 col3\" >-0.281619</td>\n",
       "      <td id=\"T_751f0_row1_col4\" class=\"data row1 col4\" >0.194780</td>\n",
       "      <td id=\"T_751f0_row1_col5\" class=\"data row1 col5\" >-0.019991</td>\n",
       "      <td id=\"T_751f0_row1_col6\" class=\"data row1 col6\" >0.072204</td>\n",
       "      <td id=\"T_751f0_row1_col7\" class=\"data row1 col7\" >-0.026310</td>\n",
       "      <td id=\"T_751f0_row1_col8\" class=\"data row1 col8\" >-0.013841</td>\n",
       "    </tr>\n",
       "    <tr>\n",
       "      <th id=\"T_751f0_level0_row2\" class=\"row_heading level0 row2\" >danceability</th>\n",
       "      <td id=\"T_751f0_row2_col0\" class=\"data row2 col0\" >0.049454</td>\n",
       "      <td id=\"T_751f0_row2_col1\" class=\"data row2 col1\" >-0.028954</td>\n",
       "      <td id=\"T_751f0_row2_col2\" class=\"data row2 col2\" >1.000000</td>\n",
       "      <td id=\"T_751f0_row2_col3\" class=\"data row2 col3\" >-0.242032</td>\n",
       "      <td id=\"T_751f0_row2_col4\" class=\"data row2 col4\" >-0.255217</td>\n",
       "      <td id=\"T_751f0_row2_col5\" class=\"data row2 col5\" >-0.106584</td>\n",
       "      <td id=\"T_751f0_row2_col6\" class=\"data row2 col6\" >0.276206</td>\n",
       "      <td id=\"T_751f0_row2_col7\" class=\"data row2 col7\" >-0.242089</td>\n",
       "      <td id=\"T_751f0_row2_col8\" class=\"data row2 col8\" >0.473165</td>\n",
       "    </tr>\n",
       "    <tr>\n",
       "      <th id=\"T_751f0_level0_row3\" class=\"row_heading level0 row3\" >energy</th>\n",
       "      <td id=\"T_751f0_row3_col0\" class=\"data row3 col0\" >0.140703</td>\n",
       "      <td id=\"T_751f0_row3_col1\" class=\"data row3 col1\" >-0.281619</td>\n",
       "      <td id=\"T_751f0_row3_col2\" class=\"data row3 col2\" >-0.242032</td>\n",
       "      <td id=\"T_751f0_row3_col3\" class=\"data row3 col3\" >1.000000</td>\n",
       "      <td id=\"T_751f0_row3_col4\" class=\"data row3 col4\" >0.028238</td>\n",
       "      <td id=\"T_751f0_row3_col5\" class=\"data row3 col5\" >0.113331</td>\n",
       "      <td id=\"T_751f0_row3_col6\" class=\"data row3 col6\" >-0.109983</td>\n",
       "      <td id=\"T_751f0_row3_col7\" class=\"data row3 col7\" >0.195227</td>\n",
       "      <td id=\"T_751f0_row3_col8\" class=\"data row3 col8\" >0.038603</td>\n",
       "    </tr>\n",
       "    <tr>\n",
       "      <th id=\"T_751f0_level0_row4\" class=\"row_heading level0 row4\" >instrumentalness</th>\n",
       "      <td id=\"T_751f0_row4_col0\" class=\"data row4 col0\" >-0.275623</td>\n",
       "      <td id=\"T_751f0_row4_col1\" class=\"data row4 col1\" >0.194780</td>\n",
       "      <td id=\"T_751f0_row4_col2\" class=\"data row4 col2\" >-0.255217</td>\n",
       "      <td id=\"T_751f0_row4_col3\" class=\"data row4 col3\" >0.028238</td>\n",
       "      <td id=\"T_751f0_row4_col4\" class=\"data row4 col4\" >1.000000</td>\n",
       "      <td id=\"T_751f0_row4_col5\" class=\"data row4 col5\" >-0.091022</td>\n",
       "      <td id=\"T_751f0_row4_col6\" class=\"data row4 col6\" >-0.366762</td>\n",
       "      <td id=\"T_751f0_row4_col7\" class=\"data row4 col7\" >0.022215</td>\n",
       "      <td id=\"T_751f0_row4_col8\" class=\"data row4 col8\" >-0.219967</td>\n",
       "    </tr>\n",
       "    <tr>\n",
       "      <th id=\"T_751f0_level0_row5\" class=\"row_heading level0 row5\" >liveness</th>\n",
       "      <td id=\"T_751f0_row5_col0\" class=\"data row5 col0\" >0.048231</td>\n",
       "      <td id=\"T_751f0_row5_col1\" class=\"data row5 col1\" >-0.019991</td>\n",
       "      <td id=\"T_751f0_row5_col2\" class=\"data row5 col2\" >-0.106584</td>\n",
       "      <td id=\"T_751f0_row5_col3\" class=\"data row5 col3\" >0.113331</td>\n",
       "      <td id=\"T_751f0_row5_col4\" class=\"data row5 col4\" >-0.091022</td>\n",
       "      <td id=\"T_751f0_row5_col5\" class=\"data row5 col5\" >1.000000</td>\n",
       "      <td id=\"T_751f0_row5_col6\" class=\"data row5 col6\" >0.041173</td>\n",
       "      <td id=\"T_751f0_row5_col7\" class=\"data row5 col7\" >0.002732</td>\n",
       "      <td id=\"T_751f0_row5_col8\" class=\"data row5 col8\" >-0.045093</td>\n",
       "    </tr>\n",
       "    <tr>\n",
       "      <th id=\"T_751f0_level0_row6\" class=\"row_heading level0 row6\" >speechiness</th>\n",
       "      <td id=\"T_751f0_row6_col0\" class=\"data row6 col0\" >-0.026995</td>\n",
       "      <td id=\"T_751f0_row6_col1\" class=\"data row6 col1\" >0.072204</td>\n",
       "      <td id=\"T_751f0_row6_col2\" class=\"data row6 col2\" >0.276206</td>\n",
       "      <td id=\"T_751f0_row6_col3\" class=\"data row6 col3\" >-0.109983</td>\n",
       "      <td id=\"T_751f0_row6_col4\" class=\"data row6 col4\" >-0.366762</td>\n",
       "      <td id=\"T_751f0_row6_col5\" class=\"data row6 col5\" >0.041173</td>\n",
       "      <td id=\"T_751f0_row6_col6\" class=\"data row6 col6\" >1.000000</td>\n",
       "      <td id=\"T_751f0_row6_col7\" class=\"data row6 col7\" >0.008241</td>\n",
       "      <td id=\"T_751f0_row6_col8\" class=\"data row6 col8\" >0.149894</td>\n",
       "    </tr>\n",
       "    <tr>\n",
       "      <th id=\"T_751f0_level0_row7\" class=\"row_heading level0 row7\" >tempo</th>\n",
       "      <td id=\"T_751f0_row7_col0\" class=\"data row7 col0\" >-0.025392</td>\n",
       "      <td id=\"T_751f0_row7_col1\" class=\"data row7 col1\" >-0.026310</td>\n",
       "      <td id=\"T_751f0_row7_col2\" class=\"data row7 col2\" >-0.242089</td>\n",
       "      <td id=\"T_751f0_row7_col3\" class=\"data row7 col3\" >0.195227</td>\n",
       "      <td id=\"T_751f0_row7_col4\" class=\"data row7 col4\" >0.022215</td>\n",
       "      <td id=\"T_751f0_row7_col5\" class=\"data row7 col5\" >0.002732</td>\n",
       "      <td id=\"T_751f0_row7_col6\" class=\"data row7 col6\" >0.008241</td>\n",
       "      <td id=\"T_751f0_row7_col7\" class=\"data row7 col7\" >1.000000</td>\n",
       "      <td id=\"T_751f0_row7_col8\" class=\"data row7 col8\" >0.052221</td>\n",
       "    </tr>\n",
       "    <tr>\n",
       "      <th id=\"T_751f0_level0_row8\" class=\"row_heading level0 row8\" >valence</th>\n",
       "      <td id=\"T_751f0_row8_col0\" class=\"data row8 col0\" >0.010070</td>\n",
       "      <td id=\"T_751f0_row8_col1\" class=\"data row8 col1\" >-0.013841</td>\n",
       "      <td id=\"T_751f0_row8_col2\" class=\"data row8 col2\" >0.473165</td>\n",
       "      <td id=\"T_751f0_row8_col3\" class=\"data row8 col3\" >0.038603</td>\n",
       "      <td id=\"T_751f0_row8_col4\" class=\"data row8 col4\" >-0.219967</td>\n",
       "      <td id=\"T_751f0_row8_col5\" class=\"data row8 col5\" >-0.045093</td>\n",
       "      <td id=\"T_751f0_row8_col6\" class=\"data row8 col6\" >0.149894</td>\n",
       "      <td id=\"T_751f0_row8_col7\" class=\"data row8 col7\" >0.052221</td>\n",
       "      <td id=\"T_751f0_row8_col8\" class=\"data row8 col8\" >1.000000</td>\n",
       "    </tr>\n",
       "  </tbody>\n",
       "</table>\n"
      ],
      "text/plain": [
       "<pandas.io.formats.style.Styler at 0x16a567f82b0>"
      ]
     },
     "execution_count": 7,
     "metadata": {},
     "output_type": "execute_result"
    }
   ],
   "source": [
    "# Create a correlation matrix\n",
    "corr_metrics = echo_tracks.corr()\n",
    "corr_metrics.style.background_gradient()"
   ]
  },
  {
   "cell_type": "markdown",
   "id": "005b8e33",
   "metadata": {},
   "source": [
    "# Splitting our data \n"
   ]
  },
  {
   "cell_type": "code",
   "execution_count": 12,
   "id": "6f85c55e",
   "metadata": {},
   "outputs": [],
   "source": [
    "# Import train_test_split function and Decision tree classifier\n",
    "# ... YOUR CODE ...\n",
    "from sklearn.model_selection import train_test_split\n",
    "from sklearn.tree import DecisionTreeClassifier\n",
    "# Create features\n",
    "features = echo_tracks.drop(['genre_top','track_id'],axis=1).values\n",
    "\n",
    "# Create labels\n",
    "labels = echo_tracks[\"genre_top\"].values\n",
    "\n",
    "# Split our data\n",
    "train_features, test_features, train_labels, test_labels = train_test_split(features,labels,random_state=10)\n"
   ]
  },
  {
   "cell_type": "markdown",
   "id": "9a340e6c",
   "metadata": {},
   "source": [
    "# Normalizing the feature data"
   ]
  },
  {
   "cell_type": "code",
   "execution_count": 13,
   "id": "ab4c29d7",
   "metadata": {},
   "outputs": [],
   "source": [
    "# Import the StandardScaler\n",
    "from sklearn.preprocessing import StandardScaler\n",
    "\n",
    "# Scale the features and set the values to a new variable\n",
    "scaler = StandardScaler()\n",
    "\n",
    "# Scale train_features and test_features\n",
    "scaled_train_features = scaler.fit_transform(train_features)\n",
    "scaled_test_features = scaler.transform(test_features)"
   ]
  },
  {
   "cell_type": "markdown",
   "id": "1b2c2154",
   "metadata": {},
   "source": [
    "# Principal Component Analysis on our scaled data"
   ]
  },
  {
   "cell_type": "code",
   "execution_count": 14,
   "id": "997548b2",
   "metadata": {},
   "outputs": [
    {
     "data": {
      "text/plain": [
       "Text(0.5, 0, 'Principal Component #')"
      ]
     },
     "execution_count": 14,
     "metadata": {},
     "output_type": "execute_result"
    },
    {
     "data": {
      "image/png": "[encoded data removed]",
      "text/plain": [
       "<Figure size 432x288 with 1 Axes>"
      ]
     },
     "metadata": {
      "needs_background": "light"
     },
     "output_type": "display_data"
    }
   ],
   "source": [
    "# This is just to make plots appear in the notebook\n",
    "%matplotlib inline\n",
    "\n",
    "# Import our plotting module, and PCA class\n",
    "import matplotlib.pyplot as plt\n",
    "from sklearn.decomposition import PCA\n",
    "\n",
    "# Get our explained variance ratios from PCA using all features\n",
    "pca = PCA()\n",
    "pca.fit(scaled_train_features)\n",
    "exp_variance = pca.explained_variance_ratio_\n",
    "\n",
    "# plot the explained variance using a barplot\n",
    "fig, ax = plt.subplots()\n",
    "ax.bar(range(pca.n_components_), exp_variance)\n",
    "ax.set_xlabel('Principal Component #')"
   ]
  },
  {
   "cell_type": "code",
   "execution_count": 15,
   "id": "c710b467",
   "metadata": {},
   "outputs": [
    {
     "data": {
      "text/plain": [
       "<matplotlib.lines.Line2D at 0x16a5a9d1d30>"
      ]
     },
     "execution_count": 15,
     "metadata": {},
     "output_type": "execute_result"
    },
    {
     "data": {
      "image/png": "[encoded data removed]",
      "text/plain": [
       "<Figure size 432x288 with 1 Axes>"
      ]
     },
     "metadata": {
      "needs_background": "light"
     },
     "output_type": "display_data"
    }
   ],
   "source": [
    "# Import numpy\n",
    "import numpy as np\n",
    "\n",
    "# Calculate the cumulative explained variance\n",
    "cum_exp_variance = np.cumsum(exp_variance)\n",
    "\n",
    "# Plot the cumulative explained variance and draw a dashed line at 0.85.\n",
    "fig, ax = plt.subplots()\n",
    "ax.plot(cum_exp_variance)\n",
    "ax.axhline(y=0.85, linestyle='--')"
   ]
  },
  {
   "cell_type": "markdown",
   "id": "6c5d44f8",
   "metadata": {},
   "source": [
    "# Projecting on to our features"
   ]
  },
  {
   "cell_type": "code",
   "execution_count": 16,
   "id": "1dd04c26",
   "metadata": {},
   "outputs": [],
   "source": [
    "# Perform PCA with the chosen number of components and project data onto components\n",
    "pca = PCA(n_components=6,random_state=10)\n",
    "\n",
    "# Fit and transform the scaled training features using pca\n",
    "train_pca = pca.fit_transform(scaled_train_features)\n",
    "\n",
    "# Fit and transform the scaled test features using pca\n",
    "test_pca = pca.transform(scaled_test_features)"
   ]
  },
  {
   "cell_type": "markdown",
   "id": "d0da3b19",
   "metadata": {},
   "source": [
    "# Train a decision tree to classify genre"
   ]
  },
  {
   "cell_type": "code",
   "execution_count": 17,
   "id": "327ba7a4",
   "metadata": {},
   "outputs": [],
   "source": [
    "# Import Decision tree classifier\n",
    "# ... YOUR CODE ...\n",
    "from sklearn.tree import DecisionTreeClassifier\n",
    "\n",
    "# Train our decision tree\n",
    "tree = DecisionTreeClassifier(random_state=10)\n",
    "tree.fit(train_pca,train_labels)\n",
    "\n",
    "# Predict the labels for the test data\n",
    "pred_labels_tree = tree.predict(test_pca)"
   ]
  },
  {
   "cell_type": "markdown",
   "id": "f72bd0f9",
   "metadata": {},
   "source": [
    "# Compare our decision tree to a logistic regression"
   ]
  },
  {
   "cell_type": "code",
   "execution_count": 18,
   "id": "236bd4aa",
   "metadata": {},
   "outputs": [
    {
     "name": "stdout",
     "output_type": "stream",
     "text": [
      "Decision Tree: \n",
      "               precision    recall  f1-score   support\n",
      "\n",
      "     Hip-Hop       0.63      0.62      0.62       235\n",
      "        Rock       0.91      0.91      0.91       966\n",
      "\n",
      "    accuracy                           0.85      1201\n",
      "   macro avg       0.77      0.77      0.77      1201\n",
      "weighted avg       0.85      0.85      0.85      1201\n",
      "\n",
      "Logistic Regression: \n",
      "               precision    recall  f1-score   support\n",
      "\n",
      "     Hip-Hop       0.77      0.54      0.64       235\n",
      "        Rock       0.90      0.96      0.93       966\n",
      "\n",
      "    accuracy                           0.88      1201\n",
      "   macro avg       0.83      0.75      0.78      1201\n",
      "weighted avg       0.87      0.88      0.87      1201\n",
      "\n"
     ]
    }
   ],
   "source": [
    "# Import LogisticRegression\n",
    "from sklearn.linear_model import LogisticRegression\n",
    "\n",
    "# Train our logistic regression and predict labels for the test set\n",
    "logreg = LogisticRegression(random_state=10)\n",
    "logreg.fit(train_pca,train_labels)\n",
    "pred_labels_logit = logreg.predict(test_pca)\n",
    "\n",
    "# Create the classification report for both models\n",
    "from sklearn.metrics import classification_report\n",
    "class_rep_tree = classification_report(test_labels,pred_labels_tree)\n",
    "class_rep_log = classification_report(test_labels,pred_labels_logit)\n",
    "\n",
    "print(\"Decision Tree: \\n\", class_rep_tree)\n",
    "print(\"Logistic Regression: \\n\", class_rep_log)"
   ]
  },
  {
   "cell_type": "markdown",
   "id": "91db5e26",
   "metadata": {},
   "source": [
    "# Balance our data for greater performance"
   ]
  },
  {
   "cell_type": "code",
   "execution_count": 19,
   "id": "bc8b35c4",
   "metadata": {},
   "outputs": [],
   "source": [
    "# Subset a balanced proportion of data points\n",
    "hop_only = echo_tracks.loc[echo_tracks['genre_top'] == 'Hip-Hop']\n",
    "rock_only = echo_tracks.loc[echo_tracks['genre_top'] == 'Rock']\n",
    "\n",
    "# subset only the rock songs, and take a sample the same size as there are hip-hop songs\n",
    "rock_only = rock_only.sample(hop_only.shape[0], random_state=10)\n",
    "\n",
    "# concatenate the dataframes hop_only and rock_only\n",
    "rock_hop_bal = pd.concat([rock_only, hop_only])\n",
    "\n",
    "# The features, labels, and pca projection are created for the balanced dataframe\n",
    "features = rock_hop_bal.drop(['genre_top', 'track_id'], axis=1) \n",
    "labels = rock_hop_bal['genre_top']\n",
    "\n",
    "# Redefine the train and test set with the pca_projection from the balanced data\n",
    "train_features, test_features, train_labels, test_labels = train_test_split(\n",
    "    features, labels, random_state=10)\n",
    "\n",
    "train_pca = pca.fit_transform(scaler.fit_transform(train_features))\n",
    "test_pca = pca.transform(scaler.transform(test_features))"
   ]
  },
  {
   "cell_type": "markdown",
   "id": "c85b3082",
   "metadata": {},
   "source": [
    "#  Does balancing our dataset improve model bias?"
   ]
  },
  {
   "cell_type": "code",
   "execution_count": 21,
   "id": "5c760d68",
   "metadata": {},
   "outputs": [
    {
     "name": "stdout",
     "output_type": "stream",
     "text": [
      "Decision Tree: \n",
      "               precision    recall  f1-score   support\n",
      "\n",
      "     Hip-Hop       0.82      0.77      0.79       230\n",
      "        Rock       0.78      0.82      0.80       225\n",
      "\n",
      "    accuracy                           0.80       455\n",
      "   macro avg       0.80      0.80      0.80       455\n",
      "weighted avg       0.80      0.80      0.80       455\n",
      "\n",
      "Logistic Regression: \n",
      "               precision    recall  f1-score   support\n",
      "\n",
      "     Hip-Hop       0.84      0.80      0.82       230\n",
      "        Rock       0.81      0.85      0.83       225\n",
      "\n",
      "    accuracy                           0.82       455\n",
      "   macro avg       0.82      0.82      0.82       455\n",
      "weighted avg       0.83      0.82      0.82       455\n",
      "\n"
     ]
    }
   ],
   "source": [
    "# Train our decision tree on the balanced data\n",
    "tree = DecisionTreeClassifier(random_state=10)\n",
    "tree.fit(train_pca, train_labels)\n",
    "pred_labels_tree = tree.predict(test_pca)\n",
    "\n",
    "# Train our logistic regression on the balanced data\n",
    "logreg = LogisticRegression(random_state=10)\n",
    "logreg.fit(train_pca, train_labels)\n",
    "pred_labels_logit = logreg.predict(test_pca)\n",
    "\n",
    "# compare the models\n",
    "print(\"Decision Tree: \\n\", classification_report(test_labels, pred_labels_tree))\n",
    "print(\"Logistic Regression: \\n\", classification_report(test_labels, pred_labels_logit))"
   ]
  },
  {
   "cell_type": "markdown",
   "id": "f81f79bb",
   "metadata": {},
   "source": [
    "# Using cross-validation to evaluate our models"
   ]
  },
  {
   "cell_type": "code",
   "execution_count": 26,
   "id": "12a0194a",
   "metadata": {},
   "outputs": [
    {
     "name": "stdout",
     "output_type": "stream",
     "text": [
      "Decision Tree: [0.73626374 0.75824176 0.7967033  0.75274725 0.75274725 0.74175824\n",
      " 0.78021978 0.79120879 0.76923077 0.7032967 ] Logistic Regression: [0.77472527 0.81318681 0.82967033 0.76923077 0.75824176 0.78021978\n",
      " 0.77472527 0.74175824 0.7967033  0.79120879]\n"
     ]
    }
   ],
   "source": [
    "from sklearn.model_selection import KFold, cross_val_score\n",
    "from sklearn.pipeline import Pipeline\n",
    "tree_pipe = Pipeline([(\"scaler\", StandardScaler()), (\"pca\", PCA(n_components=6)), \n",
    "                      (\"tree\", DecisionTreeClassifier(random_state=10))])\n",
    "logreg_pipe = Pipeline([(\"scaler\", StandardScaler()), (\"pca\", PCA(n_components=6)), \n",
    "                        (\"logreg\", LogisticRegression(random_state=10))])\n",
    "\n",
    "# Set up our K-fold cross-validation\n",
    "kf = KFold(n_splits=10)\n",
    "\n",
    "# Train our models using KFold cv\n",
    "tree_score = cross_val_score(tree_pipe, features, labels, cv=kf)\n",
    "logit_score = cross_val_score(logreg_pipe, features, labels, cv=kf)\n",
    "\n",
    "# Print the mean of each array of scores\n",
    "print(\"Decision Tree:\",tree_score, \"Logistic Regression:\", logit_score)"
   ]
  },
  {
   "cell_type": "code",
   "execution_count": 30,
   "id": "9955ba6a",
   "metadata": {},
   "outputs": [
    {
     "name": "stdout",
     "output_type": "stream",
     "text": [
      "Collecting xgboost\n",
      "  Downloading xgboost-1.7.1-py3-none-win_amd64.whl (89.1 MB)\n",
      "Requirement already satisfied: scipy in c:\\anaconda\\lib\\site-packages (from xgboost) (1.7.1)\n",
      "Requirement already satisfied: numpy in c:\\anaconda\\lib\\site-packages (from xgboost) (1.20.3)\n",
      "Installing collected packages: xgboost\n",
      "Successfully installed xgboost-1.7.1\n",
      "Note: you may need to restart the kernel to use updated packages.\n"
     ]
    }
   ],
   "source": [
    "pip install xgboost"
   ]
  },
  {
   "cell_type": "code",
   "execution_count": 31,
   "id": "cc977e8d",
   "metadata": {},
   "outputs": [],
   "source": [
    "from sklearn.ensemble import RandomForestClassifier\n",
    "from sklearn.ensemble import VotingClassifier\n",
    "from sklearn.ensemble import GradientBoostingClassifier \n",
    "from xgboost import XGBClassifier\n",
    "from sklearn.svm import SVC\n",
    "from sklearn.model_selection import GridSearchCV, cross_val_score, StratifiedKFold, learning_curve\n",
    "from sklearn.metrics import accuracy_score"
   ]
  },
  {
   "cell_type": "code",
   "execution_count": 43,
   "id": "5b3de455",
   "metadata": {},
   "outputs": [
    {
     "name": "stdout",
     "output_type": "stream",
     "text": [
      "Fitting 10 folds for each of 54 candidates, totalling 540 fits\n"
     ]
    },
    {
     "name": "stderr",
     "output_type": "stream",
     "text": [
      "C:\\ANACONDA\\lib\\site-packages\\sklearn\\model_selection\\_search.py:922: UserWarning: One or more of the test scores are non-finite: [0.8439942  0.84325891 0.83597037 0.84914663 0.83739802 0.84253435\n",
      " 0.84325354 0.84840597 0.84547016 0.84691391 0.84255045 0.84399957\n",
      " 0.83959317 0.840307   0.83887398 0.84251825 0.84252362 0.84105839\n",
      " 0.83886325 0.83739266 0.83960927 0.8403231  0.8410906  0.84255045\n",
      " 0.84328038 0.84255045 0.84548089 0.8403392  0.84183126 0.84622692\n",
      " 0.84107986 0.84182052 0.84107986 0.84474023 0.83889545 0.84255045\n",
      "        nan        nan        nan        nan        nan        nan\n",
      "        nan        nan        nan        nan        nan        nan\n",
      "        nan        nan        nan        nan        nan        nan]\n",
      "  warnings.warn(\n"
     ]
    },
    {
     "data": {
      "text/plain": [
       "0.8491466294547017"
      ]
     },
     "execution_count": 43,
     "metadata": {},
     "output_type": "execute_result"
    }
   ],
   "source": [
    "# RFC Parameters tunning \n",
    "RFC = RandomForestClassifier()\n",
    "\n",
    "\n",
    "## Search grid for optimal parameters\n",
    "rf_param_grid = {\"max_depth\": [None],\n",
    "              \"max_features\": [1, 3, 10],\n",
    "              \"min_samples_split\": [2, 3, 10],\n",
    "              \"min_samples_leaf\": [1, 3, 10],\n",
    "              \"bootstrap\": [False],\n",
    "              \"n_estimators\" :[100,300],\n",
    "              \"criterion\": [\"gini\"]}\n",
    "\n",
    "\n",
    "gsRFC = GridSearchCV(RFC,param_grid = rf_param_grid, cv=kf, scoring=\"accuracy\", n_jobs= 4, verbose = 1)\n",
    "\n",
    "gsRFC.fit(train_pca, train_labels)\n",
    "\n",
    "RFC_best = gsRFC.best_estimator_\n",
    "\n",
    "# Best score\n",
    "gsRFC.best_score_"
   ]
  },
  {
   "cell_type": "code",
   "execution_count": 35,
   "id": "31b5eea5",
   "metadata": {},
   "outputs": [
    {
     "name": "stdout",
     "output_type": "stream",
     "text": [
      "Fitting 10 folds for each of 72 candidates, totalling 720 fits\n"
     ]
    },
    {
     "data": {
      "text/plain": [
       "0.8498604551309574"
      ]
     },
     "execution_count": 35,
     "metadata": {},
     "output_type": "execute_result"
    }
   ],
   "source": [
    "# Gradient boosting tunning\n",
    "\n",
    "GBC = GradientBoostingClassifier()\n",
    "gb_param_grid = {'loss' : [\"deviance\"],\n",
    "              'n_estimators' : [100,200,300],\n",
    "              'learning_rate': [0.1, 0.05, 0.01],\n",
    "              'max_depth': [4, 8],\n",
    "              'min_samples_leaf': [100,150],\n",
    "              'max_features': [0.3, 0.1] \n",
    "              }\n",
    "\n",
    "gsGBC = GridSearchCV(GBC,param_grid = gb_param_grid, cv=kf, scoring=\"accuracy\", n_jobs= 4, verbose = 1)\n",
    "\n",
    "gsGBC.fit(train_pca, train_labels)\n",
    "\n",
    "GBC_best = gsGBC.best_estimator_\n",
    "\n",
    "# Best score\n",
    "gsGBC.best_score_"
   ]
  },
  {
   "cell_type": "code",
   "execution_count": 37,
   "id": "8b3b33a8",
   "metadata": {},
   "outputs": [
    {
     "name": "stdout",
     "output_type": "stream",
     "text": [
      "Fitting 10 folds for each of 28 candidates, totalling 280 fits\n"
     ]
    },
    {
     "data": {
      "text/plain": [
       "0.8608308286818376"
      ]
     },
     "execution_count": 37,
     "metadata": {},
     "output_type": "execute_result"
    }
   ],
   "source": [
    "### SVC classifier\n",
    "SVMC = SVC(probability=True)\n",
    "svc_param_grid = {'kernel': ['rbf'], \n",
    "                  'gamma': [ 0.001, 0.01, 0.1, 1],\n",
    "                  'C': [1, 10, 50, 100,200,300, 1000]}\n",
    "\n",
    "gsSVMC = GridSearchCV(SVMC,param_grid = svc_param_grid, cv=kf, scoring=\"accuracy\", n_jobs= 4, verbose = 1)\n",
    "\n",
    "gsSVMC.fit(train_pca, train_labels)\n",
    "\n",
    "SVMC_best = gsSVMC.best_estimator_\n",
    "\n",
    "# Best score\n",
    "gsSVMC.best_score_"
   ]
  },
  {
   "cell_type": "code",
   "execution_count": 44,
   "id": "0b525542",
   "metadata": {},
   "outputs": [
    {
     "name": "stdout",
     "output_type": "stream",
     "text": [
      "Fitting 10 folds for each of 28 candidates, totalling 280 fits\n"
     ]
    },
    {
     "data": {
      "text/plain": [
       "0.8608308286818376"
      ]
     },
     "execution_count": 44,
     "metadata": {},
     "output_type": "execute_result"
    }
   ],
   "source": [
    "### Logistic regression \n",
    "Lr=LogisticRegression()\n",
    "lr_param_grid={\"C\":[0.001, 0.01, 0.1, 1, 10, 100, 1000], \"penalty\":[\"l1\",\"l2\"]}\n",
    "\n",
    "gslr = GridSearchCV(SVMC,param_grid = svc_param_grid, cv=kf, scoring=\"accuracy\", n_jobs= 4, verbose = 1)\n",
    "\n",
    "gslr.fit(train_pca, train_labels)\n",
    "\n",
    "lr_best = gslr.best_estimator_\n",
    "\n",
    "# Best score\n",
    "gslr.best_score_"
   ]
  },
  {
   "cell_type": "code",
   "execution_count": 45,
   "id": "13c7bb16",
   "metadata": {},
   "outputs": [
    {
     "data": {
      "image/png": "[encoded data removed]",
      "text/plain": [
       "<Figure size 432x288 with 1 Axes>"
      ]
     },
     "metadata": {
      "needs_background": "light"
     },
     "output_type": "display_data"
    },
    {
     "data": {
      "image/png": "[encoded data removed]",
      "text/plain": [
       "<Figure size 432x288 with 1 Axes>"
      ]
     },
     "metadata": {
      "needs_background": "light"
     },
     "output_type": "display_data"
    },
    {
     "data": {
      "image/png": "[encoded data removed]",
      "text/plain": [
       "<Figure size 432x288 with 1 Axes>"
      ]
     },
     "metadata": {
      "needs_background": "light"
     },
     "output_type": "display_data"
    },
    {
     "data": {
      "image/png": "[encoded data removed]",
      "text/plain": [
       "<Figure size 432x288 with 1 Axes>"
      ]
     },
     "metadata": {
      "needs_background": "light"
     },
     "output_type": "display_data"
    }
   ],
   "source": [
    "def plot_learning_curve(estimator, title, X, y, ylim=None, cv=None,\n",
    "                        n_jobs=-1, train_sizes=np.linspace(.1, 1.0, 5)):\n",
    "    \"\"\"Generate a simple plot of the test and training learning curve\"\"\"\n",
    "    plt.figure()\n",
    "    plt.title(title)\n",
    "    if ylim is not None:\n",
    "        plt.ylim(*ylim)\n",
    "    plt.xlabel(\"Training examples\")\n",
    "    plt.ylabel(\"Score\")\n",
    "    train_sizes, train_scores, test_scores = learning_curve(\n",
    "        estimator, X, y, cv=cv, n_jobs=n_jobs, train_sizes=train_sizes)\n",
    "    train_scores_mean = np.mean(train_scores, axis=1)\n",
    "    train_scores_std = np.std(train_scores, axis=1)\n",
    "    test_scores_mean = np.mean(test_scores, axis=1)\n",
    "    test_scores_std = np.std(test_scores, axis=1)\n",
    "    plt.grid()\n",
    "\n",
    "    plt.fill_between(train_sizes, train_scores_mean - train_scores_std,\n",
    "                     train_scores_mean + train_scores_std, alpha=0.1,\n",
    "                     color=\"r\")\n",
    "    plt.fill_between(train_sizes, test_scores_mean - test_scores_std,\n",
    "                     test_scores_mean + test_scores_std, alpha=0.1, color=\"g\")\n",
    "    plt.plot(train_sizes, train_scores_mean, 'o-', color=\"r\",\n",
    "             label=\"Training score\")\n",
    "    plt.plot(train_sizes, test_scores_mean, 'o-', color=\"g\",\n",
    "             label=\"Cross-validation score\")\n",
    "\n",
    "    plt.legend(loc=\"best\")\n",
    "    return plt\n",
    "\n",
    "g = plot_learning_curve(gsRFC.best_estimator_,\"RF mearning curves\",train_pca, train_labels,cv=kf)\n",
    "g = plot_learning_curve(gsSVMC.best_estimator_,\"SVC learning curves\",train_pca, train_labels,cv=kf)\n",
    "g = plot_learning_curve(gslr.best_estimator_,\"Logistic Regression learning curves\",train_pca, train_labels,cv=kf)\n",
    "g = plot_learning_curve(gsGBC.best_estimator_,\"GradientBoosting learning curves\",train_pca, train_labels,cv=kf)"
   ]
  },
  {
   "cell_type": "code",
   "execution_count": 46,
   "id": "0dd19668",
   "metadata": {},
   "outputs": [],
   "source": [
    "votingC = VotingClassifier(estimators=[('lr', lr_best),('svc', SVMC_best),('gbc',GBC_best)], voting='soft', n_jobs=4)\n"
   ]
  },
  {
   "cell_type": "code",
   "execution_count": 47,
   "id": "881dd8f5",
   "metadata": {},
   "outputs": [],
   "source": [
    "voting_pipe = Pipeline([(\"scaler\", StandardScaler()), (\"pca\", PCA(n_components=6)), \n",
    "                      (\"voting\",votingC)])"
   ]
  },
  {
   "cell_type": "code",
   "execution_count": 49,
   "id": "dd4c0125",
   "metadata": {},
   "outputs": [
    {
     "name": "stdout",
     "output_type": "stream",
     "text": [
      "Voting_score: [0.81318681 0.86263736 0.87912088 0.85714286 0.83516484 0.78021978\n",
      " 0.78571429 0.77472527 0.81868132 0.77472527]\n"
     ]
    }
   ],
   "source": [
    "Voting_score = cross_val_score(voting_pipe, features, labels, cv=kf)\n",
    "\n",
    "# Print the mean of each array of scores\n",
    "print(\"Voting_score:\",Voting_score)"
   ]
  },
  {
   "cell_type": "code",
   "execution_count": null,
   "id": "a877fe1a",
   "metadata": {},
   "outputs": [],
   "source": []
  }
 ],
 "metadata": {
  "kernelspec": {
   "display_name": "Python 3 (ipykernel)",
   "language": "python",
   "name": "python3"
  },
  "language_info": {
   "codemirror_mode": {
    "name": "ipython",
    "version": 3
   },
   "file_extension": ".py",
   "mimetype": "text/x-python",
   "name": "python",
   "nbconvert_exporter": "python",
   "pygments_lexer": "ipython3",
   "version": "3.9.7"
  }
 },
 "nbformat": 4,
 "nbformat_minor": 5
}
